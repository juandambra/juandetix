{
 "cells": [
  {
   "cell_type": "markdown",
   "metadata": {},
   "source": [
    "# Trabajo Python"
   ]
  },
  {
   "cell_type": "markdown",
   "metadata": {},
   "source": [
    "### 1-Escribir 3 variables de 3 tipos distintos\n",
    "Recordar la funcion type()"
   ]
  },
  {
   "cell_type": "code",
   "execution_count": 2,
   "metadata": {},
   "outputs": [
    {
     "data": {
      "text/plain": [
       "int"
      ]
     },
     "execution_count": 2,
     "metadata": {},
     "output_type": "execute_result"
    }
   ],
   "source": [
    "type(3)"
   ]
  },
  {
   "cell_type": "code",
   "execution_count": null,
   "metadata": {},
   "outputs": [],
   "source": []
  },
  {
   "cell_type": "markdown",
   "metadata": {},
   "source": [
    "### 2 - Ingresen sus meses, dias y edad (mes1, dia1, edad1)\n",
    "Deberia ser de la forma mes1 = ?? mes2 = ??, donde mes1 es el de uno y mes2 del otro"
   ]
  },
  {
   "cell_type": "code",
   "execution_count": null,
   "metadata": {},
   "outputs": [],
   "source": []
  },
  {
   "cell_type": "markdown",
   "metadata": {},
   "source": [
    "### 3 - Ejecutar codigo siguiente. Cual es el resultado para el compañero 1? "
   ]
  },
  {
   "cell_type": "code",
   "execution_count": null,
   "metadata": {},
   "outputs": [],
   "source": [
    "if mes1 <7:\n",
    "    if dia1<15:\n",
    "        print(\"RICHARD\")\n",
    "    else:\n",
    "        print(\"RICARLOS\")\n",
    "else:\n",
    "    if dia1>15:\n",
    "        print(\"LETO\")\n",
    "    else:\n",
    "        print(\"RICARLETTO\")"
   ]
  },
  {
   "cell_type": "markdown",
   "metadata": {},
   "source": [
    "### 4 - Reescribir el codigo del punto 3 para que use las variables mes2 y dia2. el resultado tiene que ser LETO "
   ]
  },
  {
   "cell_type": "code",
   "execution_count": null,
   "metadata": {},
   "outputs": [],
   "source": []
  },
  {
   "cell_type": "markdown",
   "metadata": {},
   "source": [
    "### 5 - Cuantas veces se ejecuta el codigo adentro del ciclo?"
   ]
  },
  {
   "cell_type": "code",
   "execution_count": 3,
   "metadata": {},
   "outputs": [],
   "source": [
    "def crecer(año):\n",
    "    return año + 1"
   ]
  },
  {
   "cell_type": "code",
   "execution_count": 4,
   "metadata": {},
   "outputs": [],
   "source": [
    "edad1 = 15"
   ]
  },
  {
   "cell_type": "code",
   "execution_count": 5,
   "metadata": {},
   "outputs": [
    {
     "name": "stdout",
     "output_type": "stream",
     "text": [
      "Todavia no es mayor, tiene 16 años\n",
      "Todavia no es mayor, tiene 17 años\n",
      "Todavia no es mayor, tiene 18 años\n",
      "Ya es mayor!\n"
     ]
    }
   ],
   "source": [
    "edad = edad1\n",
    "while edad < 18:\n",
    "    edad = crecer(edad)\n",
    "    print(\"Todavia no es mayor, tiene\", edad, \"años\")\n",
    "print(\"Ya es mayor!\")"
   ]
  },
  {
   "cell_type": "markdown",
   "metadata": {},
   "source": [
    "### 6 - Modifique el codigo para que crezca mas rapido"
   ]
  }
 ],
 "metadata": {
  "kernelspec": {
   "display_name": "Python 3",
   "language": "python",
   "name": "python3"
  },
  "language_info": {
   "codemirror_mode": {
    "name": "ipython",
    "version": 3
   },
   "file_extension": ".py",
   "mimetype": "text/x-python",
   "name": "python",
   "nbconvert_exporter": "python",
   "pygments_lexer": "ipython3",
   "version": "3.7.3"
  }
 },
 "nbformat": 4,
 "nbformat_minor": 2
}
